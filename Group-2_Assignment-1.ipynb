{
 "cells": [
  {
   "cell_type": "markdown",
   "metadata": {},
   "source": [
    "Group 2\n",
    "Members:\n",
    "<span style=\"color: navy;\">Samantha Long,</span>\n",
    "<span style=\"color: orange;\">Zhenwei Liu,</span>\n",
    "<span style=\"color: cyan;\">Anirudh Aggarwal,</span>\n",
    "<span style=\"color: salmon;\">Yong Zhang,</span>\n",
    "<span style=\"color: gold;\">Fatemeh Asgarinejad</span>\n"
   ]
  },
  {
   "cell_type": "markdown",
   "metadata": {},
   "source": [
    "# HW1 Question 1\n",
    "\n",
    "Average word length\n",
    "\n",
    "Given the following string\n",
    "\n",
    "\"\"\"Mary had a little lamb\n",
    "its fleece was white as snow\n",
    "and everywhere that Mary went\n",
    "the lamb was sure to go\"\"\"\n",
    "\n",
    "1. Write a `compute_average_word_length` function to compute the average length of the words in this string.\n",
    "2. Supply an option to your function to exclude redundancies in the words, re-compute the average length of the words.\n",
    "For 2 above, you want to remove repeated words. For instance, one,two,three,two after removing the redundancies becomes one,two,three. The words are case-sensitive.\n",
    "\n",
    "Function signature: compute_average_word_length(instring,unique=False)\n",
    "\n",
    "Where instring is the string we'll be computing on. Unique determines whether or not we want to include duplicates. If unique=False we include duplicates, if unique=True then we do not count duplicates.\n"
   ]
  },
  {
   "cell_type": "markdown",
   "metadata": {},
   "source": [
    "**Validation Tests** <br>\n",
    "Check for corner cases and constraints in the inputs enlist all cases used for testing"
   ]
  },
  {
   "cell_type": "code",
   "execution_count": null,
   "metadata": {
    "scrolled": true
   },
   "outputs": [],
   "source": [
    "assert isinstance(instring,str)\n",
    "assert isinstance(unique,bool)\n",
    "assert len(instring) > 0\n",
    "assert not instring.isdigit()"
   ]
  },
  {
   "cell_type": "markdown",
   "metadata": {},
   "source": [
    "**Functional Tests** <br>\n",
    "Check function output matches expected result enlist all cases used for testing"
   ]
  },
  {
   "cell_type": "code",
   "execution_count": null,
   "metadata": {},
   "outputs": [],
   "source": [
    "data = 'Mary had a little lamb\\n its fleece was white as snow\\n\n",
    "        and everywhere that Mary went\\n the lamb was sure to go'\n",
    "assert 3.818 == compute_average_word_length(data, unique = False)\n",
    "assert 3.8421 == compute_average_word_length(data, unique = True)\n",
    "\n",
    "data = 'UCSD is a good school school'\n",
    "assert 3.8333 == compute_average_word_length(data,unique = False)\n",
    "assert 3.4 == compute_average_word_length(data,unique = True)\n",
    "\n",
    "data = 'UCSD is a\\n good school school?'\n",
    "assert 3.8333 == compute_average_word_length(data,unique = False)\n",
    "assert 3.4 == compute_average_word_length(data,unique = True)"
   ]
  },
  {
   "cell_type": "markdown",
   "metadata": {},
   "source": [
    "# HW1 Question 2\n",
    "Valid Integer\n",
    "\n",
    "Write a function that takes a single string character (i.e., ‘a’,’b’,’c’) as input and returns True or False if that character represents a valid integer in base 10.\n"
   ]
  },
  {
   "cell_type": "markdown",
   "metadata": {},
   "source": [
    "**Validation Tests** <br>\n",
    "Check for corner cases and constraints in the inputs enlist all cases used for testing"
   ]
  },
  {
   "cell_type": "code",
   "execution_count": null,
   "metadata": {},
   "outputs": [],
   "source": [
    "assert isinstance(input_string,str)\n",
    "assert len(input_string) == 1"
   ]
  },
  {
   "cell_type": "markdown",
   "metadata": {},
   "source": [
    "**Functional Tests** <br>\n",
    "Check function output matches expected result enlist all cases used for testing"
   ]
  },
  {
   "cell_type": "code",
   "execution_count": null,
   "metadata": {},
   "outputs": [],
   "source": [
    "input_string = 'b'\n",
    "assert False == is_string_integer(input_string)\n",
    "\n",
    "input_string = '9'\n",
    "assert True == is_string_integer(input_string)\n",
    "\n",
    "input_string = '?'\n",
    "assert False == is_string_integer(input_string)"
   ]
  },
  {
   "cell_type": "markdown",
   "metadata": {},
   "source": [
    "# HW1 Question 3\n",
    "Sum Non-negative\n",
    "\n",
    "Write a function that computes the sum of all non-negative integers (i.e. >=0) up to and including a specified value, n.\n"
   ]
  },
  {
   "cell_type": "markdown",
   "metadata": {},
   "source": [
    "**Validation Tests** <br>\n",
    "Check for corner cases and constraints in the inputs enlist all cases used for testing\n"
   ]
  },
  {
   "cell_type": "code",
   "execution_count": null,
   "metadata": {},
   "outputs": [],
   "source": [
    "assert isinstance(n,int)\n",
    "assert n >= 0\n"
   ]
  },
  {
   "cell_type": "markdown",
   "metadata": {},
   "source": [
    "**Functional Tests** <br>\n",
    "Check function output matches expected result enlist all cases used for testing"
   ]
  },
  {
   "cell_type": "code",
   "execution_count": null,
   "metadata": {},
   "outputs": [],
   "source": [
    "n = 0\n",
    "assert 0 == compute_sum_to_n(n)\n",
    "\n",
    "n = 3\n",
    "assert 6 == compute_sum_to_n(n)\n",
    "\n",
    "n = 10\n",
    "assert 55 == compute_sum_to_n(n)"
   ]
  }
 ],
 "metadata": {
  "kernelspec": {
   "display_name": "Python 3",
   "language": "python",
   "name": "python3"
  },
  "language_info": {
   "codemirror_mode": {
    "name": "ipython",
    "version": 3
   },
   "file_extension": ".py",
   "mimetype": "text/x-python",
   "name": "python",
   "nbconvert_exporter": "python",
   "pygments_lexer": "ipython3",
   "version": "3.8.5"
  }
 },
 "nbformat": 4,
 "nbformat_minor": 4
}
